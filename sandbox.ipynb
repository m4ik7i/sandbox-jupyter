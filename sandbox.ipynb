{
 "cells": [
  {
   "cell_type": "markdown",
   "metadata": {},
   "source": [
    "# Sandbox JupyterLab with Julia"
   ]
  },
  {
   "cell_type": "markdown",
   "metadata": {},
   "source": [
    "## Hello World"
   ]
  },
  {
   "cell_type": "code",
   "execution_count": null,
   "metadata": {},
   "outputs": [],
   "source": [
    "greet(name) = println(\"Hello, $(name)!\")\n",
    "\n",
    "# greet = name -> begin\n",
    "#     println(\"Hello, $(name)!\")\n",
    "# end"
   ]
  },
  {
   "cell_type": "code",
   "execution_count": null,
   "metadata": {},
   "outputs": [],
   "source": [
    "greet(\"Alice\")"
   ]
  },
  {
   "cell_type": "markdown",
   "metadata": {},
   "source": [
    "## FizzBuzz"
   ]
  },
  {
   "cell_type": "code",
   "execution_count": null,
   "metadata": {},
   "outputs": [],
   "source": [
    "fizzbuzz(n) = begin\n",
    "    if n % 3 == 0 && n % 5 == 0\n",
    "        return \"FizzBuzz\"\n",
    "    elseif n % 3 == 0\n",
    "        return \"Fizz\"\n",
    "    elseif n % 5 == 0\n",
    "        return \"Buzz\"\n",
    "    else\n",
    "        return \"$n\"\n",
    "    end\n",
    "end"
   ]
  },
  {
   "cell_type": "code",
   "execution_count": null,
   "metadata": {},
   "outputs": [],
   "source": [
    "for i = 1:5\n",
    "    println(fizzbuzz(i))\n",
    "end"
   ]
  },
  {
   "cell_type": "markdown",
   "metadata": {},
   "source": [
    "## Plots"
   ]
  },
  {
   "cell_type": "code",
   "execution_count": null,
   "metadata": {},
   "outputs": [],
   "source": [
    "using Plots\n",
    "\n",
    "gr()\n",
    "\n",
    "plot(rand(50))"
   ]
  },
  {
   "cell_type": "markdown",
   "metadata": {},
   "source": [
    "# TensorFlow"
   ]
  },
  {
   "cell_type": "code",
   "execution_count": null,
   "metadata": {},
   "outputs": [],
   "source": [
    "using TensorFlow\n",
    "\n",
    "sess = Session()\n",
    "\n",
    "x = constant(Float64[1, 2])\n",
    "y = Variable(Float64[3, 4])\n",
    "z = placeholder(Float64)\n",
    "\n",
    "w = exp(x + z + -y)\n",
    "\n",
    "run(sess, global_variables_initializer())\n",
    "res = run(sess, w, Dict(z => Float64[1, 2]))\n",
    "close(sess)\n",
    "\n",
    "(res, exp(-1), exp(0), exp.([-1, 0]))"
   ]
  },
  {
   "cell_type": "markdown",
   "metadata": {},
   "source": [
    "# HTTP"
   ]
  },
  {
   "cell_type": "code",
   "execution_count": null,
   "metadata": {},
   "outputs": [],
   "source": [
    "import HTTP"
   ]
  },
  {
   "cell_type": "code",
   "execution_count": null,
   "metadata": {},
   "outputs": [],
   "source": [
    "res = HTTP.request(\"GET\", \"https://example.com\")\n",
    "\n",
    "(res, res.status, split(String(res.body), \"\\n\")[40])"
   ]
  },
  {
   "cell_type": "code",
   "execution_count": null,
   "metadata": {},
   "outputs": [],
   "source": [
    "HTTP.listen(\"127.0.0.1\", 8889) do http\n",
    "    HTTP.setheader(http, \"Content-Type\" => \"text/html\")\n",
    "    write(http, \"target uri: $(http.message.target)<br>\")\n",
    "    write(http, \"request body:<br><pre>\")\n",
    "    write(http, read(http))\n",
    "    write(http, \"</pre>\")\n",
    "end"
   ]
  }
 ],
 "metadata": {
  "kernelspec": {
   "display_name": "Julia 1.4.0",
   "language": "julia",
   "name": "julia-1.4"
  },
  "language_info": {
   "file_extension": ".jl",
   "mimetype": "application/julia",
   "name": "julia",
   "version": "1.4.0"
  }
 },
 "nbformat": 4,
 "nbformat_minor": 4
}
